{
 "cells": [
  {
   "cell_type": "markdown",
   "metadata": {},
   "source": [
    "# Organización, limpieza y definición de los sets de datos"
   ]
  },
  {
   "cell_type": "markdown",
   "metadata": {},
   "source": [
    "## Carga y forma de datos"
   ]
  },
  {
   "cell_type": "code",
   "execution_count": 63,
   "metadata": {},
   "outputs": [],
   "source": [
    "import pandas as pd\n",
    "\n",
    "# Read the data from the file into a dataframe\n",
    "df = pd.read_csv('data.txt')"
   ]
  },
  {
   "cell_type": "markdown",
   "metadata": {},
   "source": [
    "### Tamaño de los datos y método \"head\""
   ]
  },
  {
   "cell_type": "code",
   "execution_count": 64,
   "metadata": {},
   "outputs": [
    {
     "name": "stdout",
     "output_type": "stream",
     "text": [
      "(1197, 15)\n"
     ]
    },
    {
     "data": {
      "text/html": [
       "<div>\n",
       "<style scoped>\n",
       "    .dataframe tbody tr th:only-of-type {\n",
       "        vertical-align: middle;\n",
       "    }\n",
       "\n",
       "    .dataframe tbody tr th {\n",
       "        vertical-align: top;\n",
       "    }\n",
       "\n",
       "    .dataframe thead th {\n",
       "        text-align: right;\n",
       "    }\n",
       "</style>\n",
       "<table border=\"1\" class=\"dataframe\">\n",
       "  <thead>\n",
       "    <tr style=\"text-align: right;\">\n",
       "      <th></th>\n",
       "      <th>date</th>\n",
       "      <th>quarter</th>\n",
       "      <th>department</th>\n",
       "      <th>day</th>\n",
       "      <th>team</th>\n",
       "      <th>targeted_productivity</th>\n",
       "      <th>smv</th>\n",
       "      <th>wip</th>\n",
       "      <th>over_time</th>\n",
       "      <th>incentive</th>\n",
       "      <th>idle_time</th>\n",
       "      <th>idle_men</th>\n",
       "      <th>no_of_style_change</th>\n",
       "      <th>no_of_workers</th>\n",
       "      <th>actual_productivity</th>\n",
       "    </tr>\n",
       "  </thead>\n",
       "  <tbody>\n",
       "    <tr>\n",
       "      <th>0</th>\n",
       "      <td>1/1/2015</td>\n",
       "      <td>Quarter1</td>\n",
       "      <td>sweing</td>\n",
       "      <td>Thursday</td>\n",
       "      <td>8</td>\n",
       "      <td>0.80</td>\n",
       "      <td>26.16</td>\n",
       "      <td>1108.0</td>\n",
       "      <td>7080</td>\n",
       "      <td>98</td>\n",
       "      <td>0.0</td>\n",
       "      <td>0</td>\n",
       "      <td>0</td>\n",
       "      <td>59.0</td>\n",
       "      <td>0.940725</td>\n",
       "    </tr>\n",
       "    <tr>\n",
       "      <th>1</th>\n",
       "      <td>1/1/2015</td>\n",
       "      <td>Quarter1</td>\n",
       "      <td>finishing</td>\n",
       "      <td>Thursday</td>\n",
       "      <td>1</td>\n",
       "      <td>0.75</td>\n",
       "      <td>3.94</td>\n",
       "      <td>NaN</td>\n",
       "      <td>960</td>\n",
       "      <td>0</td>\n",
       "      <td>0.0</td>\n",
       "      <td>0</td>\n",
       "      <td>0</td>\n",
       "      <td>8.0</td>\n",
       "      <td>0.886500</td>\n",
       "    </tr>\n",
       "    <tr>\n",
       "      <th>2</th>\n",
       "      <td>1/1/2015</td>\n",
       "      <td>Quarter1</td>\n",
       "      <td>sweing</td>\n",
       "      <td>Thursday</td>\n",
       "      <td>11</td>\n",
       "      <td>0.80</td>\n",
       "      <td>11.41</td>\n",
       "      <td>968.0</td>\n",
       "      <td>3660</td>\n",
       "      <td>50</td>\n",
       "      <td>0.0</td>\n",
       "      <td>0</td>\n",
       "      <td>0</td>\n",
       "      <td>30.5</td>\n",
       "      <td>0.800570</td>\n",
       "    </tr>\n",
       "    <tr>\n",
       "      <th>3</th>\n",
       "      <td>1/1/2015</td>\n",
       "      <td>Quarter1</td>\n",
       "      <td>sweing</td>\n",
       "      <td>Thursday</td>\n",
       "      <td>12</td>\n",
       "      <td>0.80</td>\n",
       "      <td>11.41</td>\n",
       "      <td>968.0</td>\n",
       "      <td>3660</td>\n",
       "      <td>50</td>\n",
       "      <td>0.0</td>\n",
       "      <td>0</td>\n",
       "      <td>0</td>\n",
       "      <td>30.5</td>\n",
       "      <td>0.800570</td>\n",
       "    </tr>\n",
       "    <tr>\n",
       "      <th>4</th>\n",
       "      <td>1/1/2015</td>\n",
       "      <td>Quarter1</td>\n",
       "      <td>sweing</td>\n",
       "      <td>Thursday</td>\n",
       "      <td>6</td>\n",
       "      <td>0.80</td>\n",
       "      <td>25.90</td>\n",
       "      <td>1170.0</td>\n",
       "      <td>1920</td>\n",
       "      <td>50</td>\n",
       "      <td>0.0</td>\n",
       "      <td>0</td>\n",
       "      <td>0</td>\n",
       "      <td>56.0</td>\n",
       "      <td>0.800382</td>\n",
       "    </tr>\n",
       "  </tbody>\n",
       "</table>\n",
       "</div>"
      ],
      "text/plain": [
       "       date   quarter  department       day  team  targeted_productivity  \\\n",
       "0  1/1/2015  Quarter1      sweing  Thursday     8                   0.80   \n",
       "1  1/1/2015  Quarter1  finishing   Thursday     1                   0.75   \n",
       "2  1/1/2015  Quarter1      sweing  Thursday    11                   0.80   \n",
       "3  1/1/2015  Quarter1      sweing  Thursday    12                   0.80   \n",
       "4  1/1/2015  Quarter1      sweing  Thursday     6                   0.80   \n",
       "\n",
       "     smv     wip  over_time  incentive  idle_time  idle_men  \\\n",
       "0  26.16  1108.0       7080         98        0.0         0   \n",
       "1   3.94     NaN        960          0        0.0         0   \n",
       "2  11.41   968.0       3660         50        0.0         0   \n",
       "3  11.41   968.0       3660         50        0.0         0   \n",
       "4  25.90  1170.0       1920         50        0.0         0   \n",
       "\n",
       "   no_of_style_change  no_of_workers  actual_productivity  \n",
       "0                   0           59.0             0.940725  \n",
       "1                   0            8.0             0.886500  \n",
       "2                   0           30.5             0.800570  \n",
       "3                   0           30.5             0.800570  \n",
       "4                   0           56.0             0.800382  "
      ]
     },
     "execution_count": 64,
     "metadata": {},
     "output_type": "execute_result"
    }
   ],
   "source": [
    "# Display the dataframe\n",
    "print(df.shape)\n",
    "df.head()"
   ]
  },
  {
   "cell_type": "markdown",
   "metadata": {},
   "source": [
    "Se tienen datos con 15 columnas y un total de 1197 sets da datos"
   ]
  },
  {
   "cell_type": "code",
   "execution_count": 65,
   "metadata": {},
   "outputs": [
    {
     "name": "stdout",
     "output_type": "stream",
     "text": [
      "date                      object\n",
      "quarter                   object\n",
      "department                object\n",
      "day                       object\n",
      "team                       int64\n",
      "targeted_productivity    float64\n",
      "smv                      float64\n",
      "wip                      float64\n",
      "over_time                  int64\n",
      "incentive                  int64\n",
      "idle_time                float64\n",
      "idle_men                   int64\n",
      "no_of_style_change         int64\n",
      "no_of_workers            float64\n",
      "actual_productivity      float64\n",
      "dtype: object\n"
     ]
    }
   ],
   "source": [
    "column_types = df.dtypes\n",
    "print(column_types)\n"
   ]
  },
  {
   "cell_type": "markdown",
   "metadata": {},
   "source": [
    "Se observa una consistencia en los datos y sus unidades"
   ]
  },
  {
   "cell_type": "markdown",
   "metadata": {},
   "source": [
    "## Limpieza y descripción de datos"
   ]
  },
  {
   "cell_type": "markdown",
   "metadata": {},
   "source": [
    "En el siguiente código limpiamos datos de 'department' para definir correctamente los 2 departamentos y eliminamos las fechas, pues no serán de interés en la investigación."
   ]
  },
  {
   "cell_type": "code",
   "execution_count": 71,
   "metadata": {},
   "outputs": [],
   "source": [
    "df=df.drop('date',axis=1)\n",
    "df['department'] = df['department'].str.replace(' ', '')"
   ]
  },
  {
   "cell_type": "code",
   "execution_count": 72,
   "metadata": {},
   "outputs": [
    {
     "name": "stdout",
     "output_type": "stream",
     "text": [
      "targeted_productivity:\n",
      "   Mínimo: 0.07\n",
      "   Promedio: 0.7296324143692565\n",
      "   Máximo: 0.8\n",
      "smv:\n",
      "   Mínimo: 2.9\n",
      "   Promedio: 15.062172096908938\n",
      "   Máximo: 54.56\n",
      "wip:\n",
      "   Mínimo: 7.0\n",
      "   Promedio: 1190.4659913169319\n",
      "   Máximo: 23122.0\n",
      "over_time:\n",
      "   Mínimo: 0.0\n",
      "   Promedio: 4567.460317460317\n",
      "   Máximo: 25920.0\n",
      "incentive:\n",
      "   Mínimo: 0.0\n",
      "   Promedio: 38.21052631578947\n",
      "   Máximo: 3600.0\n",
      "idle_time:\n",
      "   Mínimo: 0.0\n",
      "   Promedio: 0.7301587301587301\n",
      "   Máximo: 300.0\n",
      "idle_men:\n",
      "   Mínimo: 0.0\n",
      "   Promedio: 0.3692564745196324\n",
      "   Máximo: 45.0\n",
      "no_of_style_change:\n",
      "   Mínimo: 0.0\n",
      "   Promedio: 0.15037593984962405\n",
      "   Máximo: 2.0\n",
      "no_of_workers:\n",
      "   Mínimo: 2.0\n",
      "   Promedio: 34.60985797827903\n",
      "   Máximo: 89.0\n",
      "actual_productivity:\n",
      "   Mínimo: 0.233705476\n",
      "   Promedio: 0.7350910969791145\n",
      "   Máximo: 1.1204375\n"
     ]
    }
   ],
   "source": [
    "\n",
    "for column, values in data_dict.items():\n",
    "    print(f\"{column}:\")\n",
    "    print(f\"   Mínimo: {values[0]}\")\n",
    "    print(f\"   Promedio: {values[1]}\")\n",
    "    print(f\"   Máximo: {values[2]}\")\n",
    "\n",
    "\n",
    "data_dict = {}\n",
    "\n",
    "data_dict['targeted_productivity'] = [df['targeted_productivity'].describe()['min'], df['targeted_productivity'].describe()['mean'], df['targeted_productivity'].describe()['max']]\n",
    "data_dict['smv'] = [df['smv'].describe()['min'], df['smv'].describe()['mean'], df['smv'].describe()['max']]\n",
    "data_dict['wip'] = [df['wip'].describe()['min'], df['wip'].describe()['mean'], df['wip'].describe()['max']]\n",
    "data_dict['over_time'] = [df['over_time'].describe()['min'], df['over_time'].describe()['mean'], df['over_time'].describe()['max']]\n",
    "data_dict['incentive'] = [df['incentive'].describe()['min'], df['incentive'].describe()['mean'], df['incentive'].describe()['max']]\n",
    "data_dict['idle_time'] = [df['idle_time'].describe()['min'], df['idle_time'].describe()['mean'], df['idle_time'].describe()['max']]\n",
    "data_dict['idle_men'] = [df['idle_men'].describe()['min'], df['idle_men'].describe()['mean'], df['idle_men'].describe()['max']]\n",
    "data_dict['no_of_style_change'] = [df['no_of_style_change'].describe()['min'], df['no_of_style_change'].describe()['mean'], df['no_of_style_change'].describe()['max']]\n",
    "data_dict['no_of_workers'] = [df['no_of_workers'].describe()['min'], df['no_of_workers'].describe()['mean'], df['no_of_workers'].describe()['max']]\n",
    "data_dict['actual_productivity'] = [df['actual_productivity'].describe()['min'], df['actual_productivity'].describe()['mean'], df['actual_productivity'].describe()['max']]"
   ]
  },
  {
   "cell_type": "markdown",
   "metadata": {},
   "source": [
    "| Variable            | Mínimo | Promedio          | Máximo  |\n",
    "|---------------------|--------|-------------------|---------|\n",
    "| targeted_productivity | 0.07   | 0.7296324143692565 | 0.8     |\n",
    "| smv                 | 2.9    | 15.062172096908938 | 54.56   |\n",
    "| wip                 | 7.0    | 1190.4659913169319| 23122.0 |\n",
    "| over_time           | 0.0    | 4567.460317460317 | 25920.0 |\n",
    "| incentive           | 0.0    | 38.21052631578947 | 3600.0  |\n",
    "| idle_time           | 0.0    | 0.7301587301587301| 300.0   |\n",
    "| idle_men            | 0.0    | 0.3692564745196324| 45.0    |\n",
    "| no_of_style_change  | 0.0    | 0.15037593984962405| 2.0     |\n",
    "| no_of_workers       | 2.0    | 34.60985797827903 | 89.0    |\n",
    "| actual_productivity | 0.233705476 | 0.7350910969791145 | 1.1204375 |\n"
   ]
  },
  {
   "cell_type": "markdown",
   "metadata": {},
   "source": [
    "Datos únicos de las variables tipo Object"
   ]
  },
  {
   "cell_type": "code",
   "execution_count": 78,
   "metadata": {},
   "outputs": [
    {
     "data": {
      "text/plain": [
       "{'quarter': ['Quarter1', 'Quarter2', 'Quarter3', 'Quarter4', 'Quarter5'],\n",
       " 'department': ['sweing', 'finishing'],\n",
       " 'day': ['Thursday', 'Saturday', 'Sunday', 'Monday', 'Tuesday', 'Wednesday'],\n",
       " 'team': [1, 2, 3, 4, 5, 6, 7, 8, 9, 10, 11, 12]}"
      ]
     },
     "execution_count": 78,
     "metadata": {},
     "output_type": "execute_result"
    }
   ],
   "source": [
    "unique_data_dict['team'] = sorted(df['team'].unique().tolist())\n",
    "\n",
    "for column in df.columns:\n",
    "    if df[column].dtype == 'object':\n",
    "        unique_data_dict[column] = df[column].unique().tolist()\n",
    "unique_data_dict\n"
   ]
  },
  {
   "cell_type": "markdown",
   "metadata": {},
   "source": [
    "### Datos separados por departamento"
   ]
  },
  {
   "cell_type": "markdown",
   "metadata": {},
   "source": [
    "Eliminamos los datos de las fechas para obtener un nuevo dataframe sin esta columna"
   ]
  },
  {
   "cell_type": "markdown",
   "metadata": {},
   "source": [
    "Separamos los datos en dos DataFrames diferentes para poder trabajar sobre ellos correctamente. Se separarán de acuerdo a los dos departamentos que hay 'sweing' y 'finishing'. Lo anterior, para objetivos del estudio. También, se eliminarán "
   ]
  },
  {
   "cell_type": "code",
   "execution_count": 74,
   "metadata": {},
   "outputs": [
    {
     "name": "stdout",
     "output_type": "stream",
     "text": [
      "(691, 14)\n",
      "(506, 10)\n"
     ]
    },
    {
     "data": {
      "text/html": [
       "<div>\n",
       "<style scoped>\n",
       "    .dataframe tbody tr th:only-of-type {\n",
       "        vertical-align: middle;\n",
       "    }\n",
       "\n",
       "    .dataframe tbody tr th {\n",
       "        vertical-align: top;\n",
       "    }\n",
       "\n",
       "    .dataframe thead th {\n",
       "        text-align: right;\n",
       "    }\n",
       "</style>\n",
       "<table border=\"1\" class=\"dataframe\">\n",
       "  <thead>\n",
       "    <tr style=\"text-align: right;\">\n",
       "      <th></th>\n",
       "      <th>quarter</th>\n",
       "      <th>department</th>\n",
       "      <th>day</th>\n",
       "      <th>team</th>\n",
       "      <th>targeted_productivity</th>\n",
       "      <th>smv</th>\n",
       "      <th>over_time</th>\n",
       "      <th>incentive</th>\n",
       "      <th>no_of_workers</th>\n",
       "      <th>actual_productivity</th>\n",
       "    </tr>\n",
       "  </thead>\n",
       "  <tbody>\n",
       "    <tr>\n",
       "      <th>1</th>\n",
       "      <td>Quarter1</td>\n",
       "      <td>finishing</td>\n",
       "      <td>Thursday</td>\n",
       "      <td>1</td>\n",
       "      <td>0.75</td>\n",
       "      <td>3.94</td>\n",
       "      <td>960</td>\n",
       "      <td>0</td>\n",
       "      <td>8.0</td>\n",
       "      <td>0.886500</td>\n",
       "    </tr>\n",
       "    <tr>\n",
       "      <th>6</th>\n",
       "      <td>Quarter1</td>\n",
       "      <td>finishing</td>\n",
       "      <td>Thursday</td>\n",
       "      <td>2</td>\n",
       "      <td>0.75</td>\n",
       "      <td>3.94</td>\n",
       "      <td>960</td>\n",
       "      <td>0</td>\n",
       "      <td>8.0</td>\n",
       "      <td>0.755167</td>\n",
       "    </tr>\n",
       "    <tr>\n",
       "      <th>13</th>\n",
       "      <td>Quarter1</td>\n",
       "      <td>finishing</td>\n",
       "      <td>Thursday</td>\n",
       "      <td>10</td>\n",
       "      <td>0.65</td>\n",
       "      <td>3.94</td>\n",
       "      <td>960</td>\n",
       "      <td>0</td>\n",
       "      <td>8.0</td>\n",
       "      <td>0.705917</td>\n",
       "    </tr>\n",
       "    <tr>\n",
       "      <th>14</th>\n",
       "      <td>Quarter1</td>\n",
       "      <td>finishing</td>\n",
       "      <td>Thursday</td>\n",
       "      <td>8</td>\n",
       "      <td>0.75</td>\n",
       "      <td>2.90</td>\n",
       "      <td>960</td>\n",
       "      <td>0</td>\n",
       "      <td>8.0</td>\n",
       "      <td>0.676667</td>\n",
       "    </tr>\n",
       "    <tr>\n",
       "      <th>15</th>\n",
       "      <td>Quarter1</td>\n",
       "      <td>finishing</td>\n",
       "      <td>Thursday</td>\n",
       "      <td>4</td>\n",
       "      <td>0.75</td>\n",
       "      <td>3.94</td>\n",
       "      <td>2160</td>\n",
       "      <td>0</td>\n",
       "      <td>18.0</td>\n",
       "      <td>0.593056</td>\n",
       "    </tr>\n",
       "    <tr>\n",
       "      <th>...</th>\n",
       "      <td>...</td>\n",
       "      <td>...</td>\n",
       "      <td>...</td>\n",
       "      <td>...</td>\n",
       "      <td>...</td>\n",
       "      <td>...</td>\n",
       "      <td>...</td>\n",
       "      <td>...</td>\n",
       "      <td>...</td>\n",
       "      <td>...</td>\n",
       "    </tr>\n",
       "    <tr>\n",
       "      <th>1192</th>\n",
       "      <td>Quarter2</td>\n",
       "      <td>finishing</td>\n",
       "      <td>Wednesday</td>\n",
       "      <td>10</td>\n",
       "      <td>0.75</td>\n",
       "      <td>2.90</td>\n",
       "      <td>960</td>\n",
       "      <td>0</td>\n",
       "      <td>8.0</td>\n",
       "      <td>0.628333</td>\n",
       "    </tr>\n",
       "    <tr>\n",
       "      <th>1193</th>\n",
       "      <td>Quarter2</td>\n",
       "      <td>finishing</td>\n",
       "      <td>Wednesday</td>\n",
       "      <td>8</td>\n",
       "      <td>0.70</td>\n",
       "      <td>3.90</td>\n",
       "      <td>960</td>\n",
       "      <td>0</td>\n",
       "      <td>8.0</td>\n",
       "      <td>0.625625</td>\n",
       "    </tr>\n",
       "    <tr>\n",
       "      <th>1194</th>\n",
       "      <td>Quarter2</td>\n",
       "      <td>finishing</td>\n",
       "      <td>Wednesday</td>\n",
       "      <td>7</td>\n",
       "      <td>0.65</td>\n",
       "      <td>3.90</td>\n",
       "      <td>960</td>\n",
       "      <td>0</td>\n",
       "      <td>8.0</td>\n",
       "      <td>0.625625</td>\n",
       "    </tr>\n",
       "    <tr>\n",
       "      <th>1195</th>\n",
       "      <td>Quarter2</td>\n",
       "      <td>finishing</td>\n",
       "      <td>Wednesday</td>\n",
       "      <td>9</td>\n",
       "      <td>0.75</td>\n",
       "      <td>2.90</td>\n",
       "      <td>1800</td>\n",
       "      <td>0</td>\n",
       "      <td>15.0</td>\n",
       "      <td>0.505889</td>\n",
       "    </tr>\n",
       "    <tr>\n",
       "      <th>1196</th>\n",
       "      <td>Quarter2</td>\n",
       "      <td>finishing</td>\n",
       "      <td>Wednesday</td>\n",
       "      <td>6</td>\n",
       "      <td>0.70</td>\n",
       "      <td>2.90</td>\n",
       "      <td>720</td>\n",
       "      <td>0</td>\n",
       "      <td>6.0</td>\n",
       "      <td>0.394722</td>\n",
       "    </tr>\n",
       "  </tbody>\n",
       "</table>\n",
       "<p>506 rows × 10 columns</p>\n",
       "</div>"
      ],
      "text/plain": [
       "       quarter department        day  team  targeted_productivity   smv  \\\n",
       "1     Quarter1  finishing   Thursday     1                   0.75  3.94   \n",
       "6     Quarter1  finishing   Thursday     2                   0.75  3.94   \n",
       "13    Quarter1  finishing   Thursday    10                   0.65  3.94   \n",
       "14    Quarter1  finishing   Thursday     8                   0.75  2.90   \n",
       "15    Quarter1  finishing   Thursday     4                   0.75  3.94   \n",
       "...        ...        ...        ...   ...                    ...   ...   \n",
       "1192  Quarter2  finishing  Wednesday    10                   0.75  2.90   \n",
       "1193  Quarter2  finishing  Wednesday     8                   0.70  3.90   \n",
       "1194  Quarter2  finishing  Wednesday     7                   0.65  3.90   \n",
       "1195  Quarter2  finishing  Wednesday     9                   0.75  2.90   \n",
       "1196  Quarter2  finishing  Wednesday     6                   0.70  2.90   \n",
       "\n",
       "      over_time  incentive  no_of_workers  actual_productivity  \n",
       "1           960          0            8.0             0.886500  \n",
       "6           960          0            8.0             0.755167  \n",
       "13          960          0            8.0             0.705917  \n",
       "14          960          0            8.0             0.676667  \n",
       "15         2160          0           18.0             0.593056  \n",
       "...         ...        ...            ...                  ...  \n",
       "1192        960          0            8.0             0.628333  \n",
       "1193        960          0            8.0             0.625625  \n",
       "1194        960          0            8.0             0.625625  \n",
       "1195       1800          0           15.0             0.505889  \n",
       "1196        720          0            6.0             0.394722  \n",
       "\n",
       "[506 rows x 10 columns]"
      ]
     },
     "execution_count": 74,
     "metadata": {},
     "output_type": "execute_result"
    }
   ],
   "source": [
    "df_sweing = df[df['department'] == 'sweing']\n",
    "df_finishing = df[df['department'] == 'finishing']\n",
    "df_finishing = df_finishing.drop(['wip','idle_men','idle_time','no_of_style_change'], axis=1)\n",
    "print(df_sweing.shape)\n",
    "print(df_finishing.shape)\n",
    "df_finishing"
   ]
  },
  {
   "cell_type": "markdown",
   "metadata": {},
   "source": [
    "Se analizaran cada uno de estos Dataframes separados."
   ]
  },
  {
   "cell_type": "markdown",
   "metadata": {},
   "source": [
    "#### DataFrame Sweing"
   ]
  },
  {
   "cell_type": "code",
   "execution_count": 80,
   "metadata": {},
   "outputs": [
    {
     "name": "stdout",
     "output_type": "stream",
     "text": [
      "targeted_productivity:\n",
      "   Mínimo: 0.07\n",
      "   Promedio: 0.7239797395079595\n",
      "   Máximo: 0.8\n",
      "smv:\n",
      "   Mínimo: 10.05\n",
      "   Promedio: 23.245412445730825\n",
      "   Máximo: 54.56\n",
      "wip:\n",
      "   Mínimo: 7.0\n",
      "   Promedio: 1190.4659913169319\n",
      "   Máximo: 23122.0\n",
      "over_time:\n",
      "   Mínimo: 0.0\n",
      "   Promedio: 6508.205499276411\n",
      "   Máximo: 25920.0\n",
      "incentive:\n",
      "   Mínimo: 0.0\n",
      "   Promedio: 44.483357452966715\n",
      "   Máximo: 138.0\n",
      "idle_time:\n",
      "   Mínimo: 0.0\n",
      "   Promedio: 1.264833574529667\n",
      "   Máximo: 300.0\n",
      "idle_men:\n",
      "   Mínimo: 0.0\n",
      "   Promedio: 0.6396526772793053\n",
      "   Máximo: 45.0\n",
      "no_of_style_change:\n",
      "   Mínimo: 0.0\n",
      "   Promedio: 0.26049204052098407\n",
      "   Máximo: 2.0\n",
      "no_of_workers:\n",
      "   Mínimo: 26.0\n",
      "   Promedio: 52.44573082489146\n",
      "   Máximo: 89.0\n",
      "actual_productivity:\n",
      "   Mínimo: 0.233705476\n",
      "   Promedio: 0.7220130317105644\n",
      "   Máximo: 1.100483918\n"
     ]
    }
   ],
   "source": [
    "data_dict = {}\n",
    "\n",
    "data_dict['targeted_productivity'] = [df_sweing['targeted_productivity'].describe()['min'], df_sweing['targeted_productivity'].describe()['mean'], df_sweing['targeted_productivity'].describe()['max']]\n",
    "data_dict['smv'] = [df_sweing['smv'].describe()['min'], df_sweing['smv'].describe()['mean'], df_sweing['smv'].describe()['max']]\n",
    "data_dict['wip'] = [df_sweing['wip'].describe()['min'], df_sweing['wip'].describe()['mean'], df_sweing['wip'].describe()['max']]\n",
    "data_dict['over_time'] = [df_sweing['over_time'].describe()['min'], df_sweing['over_time'].describe()['mean'], df_sweing['over_time'].describe()['max']]\n",
    "data_dict['incentive'] = [df_sweing['incentive'].describe()['min'], df_sweing['incentive'].describe()['mean'], df_sweing['incentive'].describe()['max']]\n",
    "data_dict['idle_time'] = [df_sweing['idle_time'].describe()['min'], df_sweing['idle_time'].describe()['mean'], df_sweing['idle_time'].describe()['max']]\n",
    "data_dict['idle_men'] = [df_sweing['idle_men'].describe()['min'], df_sweing['idle_men'].describe()['mean'], df_sweing['idle_men'].describe()['max']]\n",
    "data_dict['no_of_style_change'] = [df_sweing['no_of_style_change'].describe()['min'], df_sweing['no_of_style_change'].describe()['mean'], df_sweing['no_of_style_change'].describe()['max']]\n",
    "data_dict['no_of_workers'] = [df_sweing['no_of_workers'].describe()['min'], df_sweing['no_of_workers'].describe()['mean'], df_sweing['no_of_workers'].describe()['max']]\n",
    "data_dict['actual_productivity'] = [df_sweing['actual_productivity'].describe()['min'], df_sweing['actual_productivity'].describe()['mean'], df_sweing['actual_productivity'].describe()['max']]\n",
    "\n",
    "\n",
    "for column, values in data_dict.items():\n",
    "    print(f\"{column}:\")\n",
    "    print(f\"   Mínimo: {values[0]}\")\n",
    "    print(f\"   Promedio: {values[1]}\")\n",
    "    print(f\"   Máximo: {values[2]}\")"
   ]
  },
  {
   "cell_type": "markdown",
   "metadata": {},
   "source": [
    "| Variable            | Mínimo | Promedio          | Máximo  |\n",
    "|---------------------|--------|-------------------|---------|\n",
    "| targeted_productivity | 0.07   | 0.7239797395079595 | 0.8     |\n",
    "| smv                 | 10.05  | 23.245412445730825 | 54.56   |\n",
    "| wip                 | 7.0    | 1190.4659913169319| 23122.0 |\n",
    "| over_time           | 0.0    | 6508.205499276411 | 25920.0 |\n",
    "| incentive           | 0.0    | 44.483357452966715 | 138.0   |\n",
    "| idle_time           | 0.0    | 1.264833574529667 | 300.0   |\n",
    "| idle_men            | 0.0    | 0.6396526772793053| 45.0    |\n",
    "| no_of_style_change  | 0.0    | 0.26049204052098407| 2.0     |\n",
    "| no_of_workers       | 26.0   | 52.44573082489146 | 89.0    |\n",
    "| actual_productivity | 0.233705476 | 0.7220130317105644 | 1.100483918 |\n"
   ]
  },
  {
   "cell_type": "code",
   "execution_count": 87,
   "metadata": {},
   "outputs": [
    {
     "data": {
      "text/plain": [
       "{'quarter': ['Quarter1', 'Quarter2', 'Quarter3', 'Quarter4', 'Quarter5'],\n",
       " 'department': ['sweing'],\n",
       " 'day': ['Thursday', 'Saturday', 'Sunday', 'Monday', 'Tuesday', 'Wednesday'],\n",
       " 'team': [1, 2, 3, 4, 5, 6, 7, 8, 9, 10, 11, 12]}"
      ]
     },
     "execution_count": 87,
     "metadata": {},
     "output_type": "execute_result"
    }
   ],
   "source": [
    "unique_data_dict['team'] = sorted(df_sweing['team'].unique().tolist())\n",
    "\n",
    "for column in df_sweing.columns:\n",
    "    if df_sweing[column].dtype == 'object':\n",
    "        unique_data_dict[column] = df_sweing[column].unique().tolist()\n",
    "unique_data_dict"
   ]
  },
  {
   "cell_type": "markdown",
   "metadata": {},
   "source": [
    "#### Data Finishing"
   ]
  },
  {
   "cell_type": "code",
   "execution_count": 85,
   "metadata": {},
   "outputs": [
    {
     "name": "stdout",
     "output_type": "stream",
     "text": [
      "targeted_productivity:\n",
      "   Mínimo: 0.35\n",
      "   Promedio: 0.7373517786561267\n",
      "   Máximo: 0.8\n",
      "smv:\n",
      "   Mínimo: 2.9\n",
      "   Promedio: 3.887035573122529\n",
      "   Máximo: 5.13\n",
      "over_time:\n",
      "   Mínimo: 0.0\n",
      "   Promedio: 1917.1541501976285\n",
      "   Máximo: 15000.0\n",
      "incentive:\n",
      "   Mínimo: 0.0\n",
      "   Promedio: 29.64426877470356\n",
      "   Máximo: 3600.0\n",
      "no_of_workers:\n",
      "   Mínimo: 2.0\n",
      "   Promedio: 10.25296442687747\n",
      "   Máximo: 28.0\n",
      "actual_productivity:\n",
      "   Mínimo: 0.235795455\n",
      "   Promedio: 0.7529506683241106\n",
      "   Máximo: 1.1204375\n"
     ]
    }
   ],
   "source": [
    "\n",
    "data_dict = {}\n",
    "data_dict['targeted_productivity'] = [df_finishing['targeted_productivity'].describe()['min'], df_finishing['targeted_productivity'].describe()['mean'], df_finishing['targeted_productivity'].describe()['max']]\n",
    "data_dict['smv'] = [df_finishing['smv'].describe()['min'], df_finishing['smv'].describe()['mean'], df_finishing['smv'].describe()['max']]\n",
    "data_dict['over_time'] = [df_finishing['over_time'].describe()['min'], df_finishing['over_time'].describe()['mean'], df_finishing['over_time'].describe()['max']]\n",
    "data_dict['incentive'] = [df_finishing['incentive'].describe()['min'], df_finishing['incentive'].describe()['mean'], df_finishing['incentive'].describe()['max']]\n",
    "data_dict['no_of_workers'] = [df_finishing['no_of_workers'].describe()['min'], df_finishing['no_of_workers'].describe()['mean'], df_finishing['no_of_workers'].describe()['max']]\n",
    "data_dict['actual_productivity'] = [df_finishing['actual_productivity'].describe()['min'], df_finishing['actual_productivity'].describe()['mean'], df_finishing['actual_productivity'].describe()['max']]\n",
    "\n",
    "for column, values in data_dict.items():\n",
    "    print(f\"{column}:\")\n",
    "    print(f\"   Mínimo: {values[0]}\")\n",
    "    print(f\"   Promedio: {values[1]}\")\n",
    "    print(f\"   Máximo: {values[2]}\")"
   ]
  },
  {
   "cell_type": "markdown",
   "metadata": {},
   "source": [
    "| Variable            | Mínimo | Promedio          | Máximo  |\n",
    "|---------------------|--------|-------------------|---------|\n",
    "| targeted_productivity | 0.35   | 0.7373517786561267 | 0.8     |\n",
    "| smv                 | 2.9    | 3.887035573122529  | 5.13    |\n",
    "| over_time           | 0.0    | 1917.1541501976285 | 15000.0 |\n",
    "| incentive           | 0.0    | 29.64426877470356  | 3600.0  |\n",
    "| no_of_workers       | 2.0    | 10.25296442687747  | 28.0    |\n",
    "| actual_productivity | 0.235795455 | 0.7529506683241106 | 1.1204375 |\n"
   ]
  },
  {
   "cell_type": "code",
   "execution_count": 86,
   "metadata": {},
   "outputs": [
    {
     "data": {
      "text/plain": [
       "{'quarter': ['Quarter1', 'Quarter2', 'Quarter3', 'Quarter4', 'Quarter5'],\n",
       " 'department': ['finishing'],\n",
       " 'day': ['Thursday', 'Saturday', 'Sunday', 'Monday', 'Tuesday', 'Wednesday'],\n",
       " 'team': [1, 2, 3, 4, 5, 6, 7, 8, 9, 10, 11, 12]}"
      ]
     },
     "execution_count": 86,
     "metadata": {},
     "output_type": "execute_result"
    }
   ],
   "source": [
    "unique_data_dict['team'] = sorted(df_finishing['team'].unique().tolist())\n",
    "\n",
    "for column in df_finishing.columns:\n",
    "    if df_finishing[column].dtype == 'object':\n",
    "        unique_data_dict[column] = df_finishing[column].unique().tolist()\n",
    "unique_data_dict"
   ]
  }
 ],
 "metadata": {
  "kernelspec": {
   "display_name": "Python 3",
   "language": "python",
   "name": "python3"
  },
  "language_info": {
   "codemirror_mode": {
    "name": "ipython",
    "version": 3
   },
   "file_extension": ".py",
   "mimetype": "text/x-python",
   "name": "python",
   "nbconvert_exporter": "python",
   "pygments_lexer": "ipython3",
   "version": "3.11.7"
  }
 },
 "nbformat": 4,
 "nbformat_minor": 2
}
